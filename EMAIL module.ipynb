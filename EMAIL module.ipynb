{
 "cells": [
  {
   "cell_type": "code",
   "execution_count": null,
   "metadata": {},
   "outputs": [],
   "source": [
    "\n",
    "import smtplib\n",
    "\n",
    "email='tuhinmukherjee74@gmail.com'\n",
    "password='yeto rcts yiqo obke'\n",
    "\n",
    "with smtplib.SMTP('smtp.gmail.com', 587) as smtp:\n",
    "    smtp.ehlo()\n",
    "    smtp.starttls()\n",
    "    smtp.ehlo()\n",
    "\n",
    "    smtp.login(email,password)\n",
    "\n",
    "    subject='i am a robot'\n",
    "    body='how are you?'\n",
    "\n",
    "    msg=f'Subject: {subject}\\n\\n{body}'\n",
    "\n",
    "    smtp.sendmail(email,'tuhinmukherjee744@gmail.com',msg)"
   ]
  }
 ],
 "metadata": {
  "kernelspec": {
   "display_name": "Python 3",
   "language": "python",
   "name": "python3"
  },
  "language_info": {
   "codemirror_mode": {
    "name": "ipython",
    "version": 3
   },
   "file_extension": ".py",
   "mimetype": "text/x-python",
   "name": "python",
   "nbconvert_exporter": "python",
   "pygments_lexer": "ipython3",
   "version": "3.7.4"
  }
 },
 "nbformat": 4,
 "nbformat_minor": 2
}
