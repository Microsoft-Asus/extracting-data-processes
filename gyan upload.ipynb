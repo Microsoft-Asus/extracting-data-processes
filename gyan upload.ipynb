{
 "cells": [
  {
   "cell_type": "code",
   "execution_count": 1,
   "metadata": {},
   "outputs": [],
   "source": [
    "from datetime import date\n",
    "import mechanize\n",
    "import bs4\n",
    "import requests\n",
    "import random\n",
    "import re"
   ]
  },
  {
   "cell_type": "code",
   "execution_count": 2,
   "metadata": {},
   "outputs": [
    {
     "name": "stdout",
     "output_type": "stream",
     "text": [
      "2020-05-22\n"
     ]
    }
   ],
   "source": [
    "today=date.today()\n",
    "print(today)"
   ]
  },
  {
   "cell_type": "code",
   "execution_count": null,
   "metadata": {},
   "outputs": [],
   "source": []
  },
  {
   "cell_type": "code",
   "execution_count": 7,
   "metadata": {},
   "outputs": [],
   "source": [
    "#extracting gyaan link\n",
    "\n",
    "src = requests.get(\"https://indianexpress.com/section/technology/tech-news-technology/\")\n",
    "soup = bs4.BeautifulSoup(src.content , 'lxml')\n",
    "\n",
    "urls=[]\n",
    "for h2_tag in soup.find_all(\"h2\"):\n",
    "    a_tag = h2_tag.find('a')\n",
    "    urls.append(str(a_tag.attrs['href']))\n",
    "    \n",
    "random_choice1=(random.choice(urls))\n",
    "random_choice2=(random.choice(urls))\n",
    "random_choice3=(random.choice(urls))"
   ]
  },
  {
   "cell_type": "code",
   "execution_count": null,
   "metadata": {},
   "outputs": [],
   "source": []
  },
  {
   "cell_type": "code",
   "execution_count": 9,
   "metadata": {
    "collapsed": true
   },
   "outputs": [
    {
     "name": "stdout",
     "output_type": "stream",
     "text": [
      "b'<!DOCTYPE html>\\n<html lang=\"en\">\\n<head>\\n    <title>Dashboard</title>\\n    <meta name=\"viewport\" content=\"width=device-width, initial-scale=1\">\\n    <link rel=\"stylesheet\" type=\"text/css\" href=\"/static/css/style.css\">\\n    <link rel=\"stylesheet\" type=\"text/css\"\\n          href=\"https://cdnjs.cloudflare.com/ajax/libs/font-awesome/5.11.2/css/all.css\">\\n    <script src=\"https://ajax.googleapis.com/ajax/libs/jquery/3.4.1/jquery.min.js\"></script>\\n    <script src=\"https://cdn.jsdelivr.net/npm/popper.js@1.16.0/dist/umd/popper.min.js\"\\n            integrity=\"sha384-Q6E9RHvbIyZFJoft+2mJbHaEWldlvI9IOYy5n3zV9zzTtmI3UksdQRVvoxMfooAo\"\\n            crossorigin=\"anonymous\"></script>\\n    <link rel=\"stylesheet\" href=\"https://stackpath.bootstrapcdn.com/bootstrap/4.4.1/css/bootstrap.min.css\"\\n          integrity=\"sha384-Vkoo8x4CGsO3+Hhxv8T/Q5PaXtkKtu6ug5TOeNV6gBiFeWPGFN9MuhOf23Q9Ifjh\" crossorigin=\"anonymous\">\\n    <script src=\"https://stackpath.bootstrapcdn.com/bootstrap/4.4.1/js/bootstrap.min.js\"\\n            integrity=\"sha384-wfSDF2E50Y2D1uUdj0O3uMBJnjuUD4Ih7YwaYd1iqfktj0Uod8GCExl3Og8ifwB6\"\\n            crossorigin=\"anonymous\"></script>\\n    <script type=\"text/javascript\" src=\"https://www.gstatic.com/charts/loader.js\"></script>\\n\\n    <link href=\"/static/css/glanceyear.css\" rel=\"stylesheet\">\\n    <script type=\"text/javascript\" src=\"/static/js/glanceyear.js\"></script>\\n\\n    <script type=\"text/javascript\">\\n          google.charts.load(\\'current\\', {\\'packages\\':[\\'corechart\\']});\\n          google.charts.setOnLoadCallback(drawChart);\\n\\n          function drawChart() {\\n                var data = google.visualization.arrayToDataTable([\\n                  [\\'Type\\', \\'Marks\\'],\\n                  [\\'Tasks\\',     38.75],\\n                  [\\'My Day\\',    11],\\n                  [\\'Gyan\\',  2.0]\\n                ]);\\n\\n                var options = {\\n                  title: \\'Marks Distribution\\'\\n                };\\n\\n                var chart = new google.visualization.PieChart(document.getElementById(\\'piechart\\'));\\n\\n                chart.draw(data, options);\\n          }\\n\\n\\n\\n    </script>\\n    <script>\\n\\t$(function() {\\n            var massive=[{\"date\": \"2020-1-19\", \"value\": \"1\"}, {\"date\": \"2020-1-20\", \"value\": \"1\"}, {\"date\": \"2020-1-21\", \"value\": \"1\"}, {\"date\": \"2020-1-22\", \"value\": \"1\"}, {\"date\": \"2020-1-23\", \"value\": \"1\"}, {\"date\": \"2020-1-24\", \"value\": \"1\"}, {\"date\": \"2020-1-25\", \"value\": \"1\"}, {\"date\": \"2020-1-26\", \"value\": \"1\"}, {\"date\": \"2020-1-27\", \"value\": \"1\"}, {\"date\": \"2020-1-28\", \"value\": \"1\"}, {\"date\": \"2020-1-29\", \"value\": \"1\"}, {\"date\": \"2020-1-30\", \"value\": \"1\"}, {\"date\": \"2020-1-31\", \"value\": \"1\"}, {\"date\": \"2020-2-1\", \"value\": \"1\"}, {\"date\": \"2020-2-2\", \"value\": \"1\"}, {\"date\": \"2020-2-3\", \"value\": \"1\"}, {\"date\": \"2020-2-4\", \"value\": \"1\"}, {\"date\": \"2020-2-5\", \"value\": \"1\"}, {\"date\": \"2020-2-6\", \"value\": \"1\"}, {\"date\": \"2020-2-7\", \"value\": \"1\"}, {\"date\": \"2020-2-8\", \"value\": \"1\"}, {\"date\": \"2020-2-9\", \"value\": \"1\"}, {\"date\": \"2020-2-10\", \"value\": \"1\"}, {\"date\": \"2020-2-12\", \"value\": \"1\"}, {\"date\": \"2020-2-13\", \"value\": \"1\"}, {\"date\": \"2020-2-14\", \"value\": \"1\"}, {\"date\": \"2020-2-15\", \"value\": \"1\"}, {\"date\": \"2020-2-16\", \"value\": \"1\"}, {\"date\": \"2020-2-17\", \"value\": \"1\"}, {\"date\": \"2020-2-18\", \"value\": \"1\"}, {\"date\": \"2020-2-19\", \"value\": \"1\"}, {\"date\": \"2020-2-20\", \"value\": \"1\"}, {\"date\": \"2020-2-21\", \"value\": \"1\"}, {\"date\": \"2020-2-22\", \"value\": \"1\"}, {\"date\": \"2020-2-23\", \"value\": \"1\"}, {\"date\": \"2020-2-24\", \"value\": \"1\"}, {\"date\": \"2020-2-25\", \"value\": \"1\"}, {\"date\": \"2020-2-26\", \"value\": \"1\"}, {\"date\": \"2020-2-27\", \"value\": \"1\"}, {\"date\": \"2020-2-28\", \"value\": \"1\"}, {\"date\": \"2020-2-29\", \"value\": \"1\"}, {\"date\": \"2020-3-1\", \"value\": \"1\"}, {\"date\": \"2020-3-2\", \"value\": \"1\"}, {\"date\": \"2020-3-3\", \"value\": \"1\"}, {\"date\": \"2020-3-4\", \"value\": \"1\"}, {\"date\": \"2020-3-6\", \"value\": \"1\"}, {\"date\": \"2020-3-7\", \"value\": \"1\"}, {\"date\": \"2020-3-8\", \"value\": \"1\"}, {\"date\": \"2020-3-9\", \"value\": \"1\"}, {\"date\": \"2020-3-10\", \"value\": \"1\"}, {\"date\": \"2020-3-11\", \"value\": \"1\"}, {\"date\": \"2020-3-12\", \"value\": \"1\"}, {\"date\": \"2020-3-13\", \"value\": \"1\"}, {\"date\": \"2020-3-14\", \"value\": \"1\"}, {\"date\": \"2020-3-16\", \"value\": \"1\"}, {\"date\": \"2020-3-17\", \"value\": \"1\"}, {\"date\": \"2020-3-18\", \"value\": \"1\"}, {\"date\": \"2020-3-19\", \"value\": \"1\"}, {\"date\": \"2020-3-20\", \"value\": \"1\"}, {\"date\": \"2020-3-21\", \"value\": \"1\"}, {\"date\": \"2020-3-23\", \"value\": \"1\"}, {\"date\": \"2020-3-24\", \"value\": \"1\"}, {\"date\": \"2020-3-25\", \"value\": \"1\"}, {\"date\": \"2020-3-26\", \"value\": \"1\"}, {\"date\": \"2020-3-27\", \"value\": \"1\"}, {\"date\": \"2020-3-28\", \"value\": \"1\"}, {\"date\": \"2020-3-29\", \"value\": \"1\"}, {\"date\": \"2020-3-30\", \"value\": \"1\"}, {\"date\": \"2020-4-1\", \"value\": \"1\"}, {\"date\": \"2020-4-2\", \"value\": \"1\"}, {\"date\": \"2020-4-3\", \"value\": \"1\"}, {\"date\": \"2020-4-4\", \"value\": \"1\"}, {\"date\": \"2020-4-5\", \"value\": \"1\"}, {\"date\": \"2020-4-6\", \"value\": \"1\"}, {\"date\": \"2020-4-7\", \"value\": \"1\"}, {\"date\": \"2020-4-8\", \"value\": \"1\"}, {\"date\": \"2020-4-9\", \"value\": \"1\"}, {\"date\": \"2020-4-10\", \"value\": \"1\"}, {\"date\": \"2020-4-11\", \"value\": \"1\"}, {\"date\": \"2020-4-12\", \"value\": \"1\"}, {\"date\": \"2020-4-13\", \"value\": \"1\"}, {\"date\": \"2020-4-15\", \"value\": \"1\"}, {\"date\": \"2020-4-16\", \"value\": \"1\"}, {\"date\": \"2020-4-17\", \"value\": \"1\"}, {\"date\": \"2020-4-18\", \"value\": \"1\"}, {\"date\": \"2020-4-19\", \"value\": \"1\"}, {\"date\": \"2020-4-20\", \"value\": \"1\"}, {\"date\": \"2020-4-21\", \"value\": \"1\"}, {\"date\": \"2020-4-22\", \"value\": \"1\"}, {\"date\": \"2020-4-23\", \"value\": \"1\"}, {\"date\": \"2020-4-24\", \"value\": \"1\"}, {\"date\": \"2020-4-25\", \"value\": \"1\"}, {\"date\": \"2020-4-26\", \"value\": \"1\"}, {\"date\": \"2020-4-27\", \"value\": \"1\"}, {\"date\": \"2020-4-28\", \"value\": \"1\"}, {\"date\": \"2020-4-29\", \"value\": \"1\"}, {\"date\": \"2020-4-30\", \"value\": \"1\"}, {\"date\": \"2020-5-1\", \"value\": \"1\"}, {\"date\": \"2020-5-2\", \"value\": \"1\"}, {\"date\": \"2020-5-3\", \"value\": \"1\"}, {\"date\": \"2020-5-4\", \"value\": \"1\"}, {\"date\": \"2020-5-5\", \"value\": \"1\"}, {\"date\": \"2020-5-6\", \"value\": \"1\"}, {\"date\": \"2020-5-7\", \"value\": \"1\"}, {\"date\": \"2020-5-8\", \"value\": \"1\"}, {\"date\": \"2020-5-9\", \"value\": \"1\"}, {\"date\": \"2020-5-10\", \"value\": \"1\"}, {\"date\": \"2020-5-11\", \"value\": \"1\"}];\\n            console.log(massive)\\n\\t\\t\\t$(\\'#js-glanceyear\\').empty().glanceyear(\\n\\t\\t\\t\\tmassive,\\n\\t\\t\\t\\t{\\n\\t\\t\\t\\t\\teventClick: function(e) {\\n\\t\\t\\t\\t\\t\\t$(\\'#debug\\').html(\\'Date: \\'+ e.date + \\', Count: \\' + e.count);\\n\\t\\t\\t\\t\\t},\\n\\t\\t\\t\\t\\tshowToday: true\\n\\t\\t\\t\\t}\\n\\n\\t\\t\\t);\\n\\n\\t});\\n\\n\\n\\n    </script>\\n\\n    <script type=\"text/javascript\">\\n      google.charts.load(\\'current\\', {\\'packages\\':[\\'corechart\\']});\\n      google.charts.setOnLoadCallback(drawChart);\\n\\n      function drawChart() {\\n        var data = google.visualization.arrayToDataTable([\\n          [\\'Date\\', \\'Your Performance\\', \\'Class Average\\'],\\n          \\n          [\\'24 th Jan\\',  79.65860597439544 , 71.32106639746708 ],\\n          \\n          [\\'29 th Jan\\',  75.67567567567568 , 81.04314841156946 ],\\n          \\n          [\\'02 nd Feb\\',  75.67567567567568 , 80.38762446657184 ],\\n          \\n          [\\'07 th Feb\\',  92.24751066856331 , 87.24206092627145 ],\\n          \\n          [\\'12 th Feb\\',  89.61593172119487 , 88.59056424845897 ],\\n          \\n          [\\'13 th Feb\\',  100.0 , 89.16548127074442 ],\\n          \\n          [\\'14 th Feb\\',  100.0 , 82.14793741109531 ],\\n          \\n          [\\'18 th Feb\\',  89.61593172119487 , 88.47795163584638 ],\\n          \\n          [\\'22 nd Feb\\',  69.55903271692745 , 78.25475851791639 ],\\n          \\n          [\\'24 th Feb\\',  69.55903271692745 , 87.67188240872451 ],\\n          \\n          [\\'03 rd Mar\\',  84.63726884779517 , 82.03960122680975 ],\\n          \\n          [\\'14 th Mar\\',  19.91465149359886 , 33.01031294452347 ],\\n          \\n          [\\'19 th Mar\\',  99.57325746799431 , 93.36326458036983 ],\\n          \\n          [\\'20 th Mar\\',  69.70128022759602 , 75.05334281650072 ],\\n          \\n          [\\'24 th Mar\\',  85.46704599336178 , 81.16520595298184 ],\\n          \\n          [\\'25 th Mar\\',  85.46704599336178 , 94.31009957325746 ],\\n          \\n          [\\'26 th Mar\\',  85.46704599336178 , 92.93504030346135 ],\\n          \\n          [\\'01 st Apr\\',  100.0 , 93.6613647139963 ],\\n          \\n          [\\'02 nd Apr\\',  100.0 , 82.97771455666194 ],\\n          \\n          [\\'06 th Apr\\',  84.63726884779517 , 88.4391568602095 ],\\n          \\n          [\\'18 th Apr\\',  84.63726884779517 , 84.62710831131884 ],\\n          \\n          [\\'16 th Apr\\',  84.63726884779517 , 84.62710831131884 ],\\n          \\n          [\\'27 th Apr\\',  89.40848743480323 , 82.13591649470078 ],\\n          \\n          [\\'22 nd Apr\\',  89.40848743480323 , 82.13591649470078 ],\\n          \\n          [\\'28 th Apr\\',  90.4457088667615 , 82.4266264115888 ],\\n          \\n          [\\'30 th Apr\\',  94.5945945945946 , 91.92132241134055 ],\\n          \\n          [\\'09 th May\\',  64.7226173541963 , 84.13393150235255 ],\\n          \\n          [\\'05 th May\\',  64.7226173541963 , 84.13393150235255 ],\\n          \\n          [\\'08 th May\\',  64.7226173541963 , 80.6871648976912 ],\\n          \\n          [\\'01 st May\\',  64.7226173541963 , 80.6871648976912 ],\\n          \\n          [\\'11 th May\\',  64.7226173541963 , 84.03102350470772 ],\\n          \\n          [\\'18 th May\\',  84.63726884779517 , 89.21107342159974 ],\\n          \\n          [\\'16 th May\\',  84.63726884779517 , 89.21107342159974 ],\\n          \\n          [\\'17 th May\\',  84.63726884779517 , 94.87908961593172 ],\\n          \\n          [\\'20 th May\\',  88.47795163584638 , 84.31213168055274 ],\\n          \\n          [\\'19 th May\\',  88.47795163584638 , 84.31213168055274 ],\\n          \\n        ]);\\n\\n        var options = {\\n          title: \\'Student Performance\\',\\n          curveType: \\'function\\',\\n          legend: { position: \\'top\\' },\\n          hAxis: {\\n                title: \\'Evaluation Date\\',\\n                textStyle:{\\n                    color: \"black\"\\n                },\\n                titleTextStyle: {\\n                    color: \"black\",\\n                    fontName: \"sans-serif\",\\n                    fontSize: 11,\\n                    bold: true,\\n                    italic: false\\n                }\\n            },\\n            vAxis: {\\n                title: \\'Performance( in %)\\',\\n                titleTextStyle: {\\n                    fontColor: \"red\",\\n                    fontName: \"sans-serif\",\\n                    fontSize: 11,\\n                    bold: true,\\n                    italic: false\\n                }\\n                },\\n            annotations: {\\n                alwaysOutside: true,\\n                textStyle: {\\n                    fontSize: 14,\\n                    auraColor: \\'none\\'\\n                }\\n            }\\n\\n        };\\n\\n        var chart = new google.visualization.LineChart(document.getElementById(\\'curve_chart\\'));\\n\\n        chart.draw(data, options);\\n      }\\n\\n\\n\\n    </script>\\n</head>\\n<body class=\"bg-grey\">\\n<nav class=\"navbar bg-nav\">\\n    <a href=\"/\"><h4 class=\"text-light\">Campus{X}</h4></a>\\n    <ul class=\"nav navbar-right\">\\n        <li><a href=\"#\" class=\"text-light\"> <strong>Hi! Tuhin</strong></a></li>\\n    </ul>\\n</nav>\\n<nav class=\"navbar navbar-expand-lg navbar-light bg-light\">\\n    <button class=\"navbar-toggler\" type=\"button\" data-toggle=\"collapse\" data-target=\"#navbarNav\"\\n            aria-controls=\"navbarNav\" aria-expanded=\"false\" aria-label=\"Toggle navigation\">\\n        <span class=\"navbar-toggler-icon\"></span>\\n    </button>\\n    <div class=\"collapse navbar-collapse\" id=\"navbarNav\">\\n        <ul class=\"navbar-nav\">\\n            <li class=\"nav-item active\">\\n                <a class=\"nav-link\" href=\"/dashboard\"><strong>Dashboard</strong></a>\\n            </li>\\n            <li class=\"nav-item\">\\n                <a class=\"nav-link\" href=\"/timeline\"><strong>Timeline</strong></a>\\n            </li>\\n            <li class=\"nav-item\">\\n                <a class=\"nav-link\" href=\"/gyan\"><strong>Gyan</strong></a>\\n            </li>\\n            <!--            <li class=\"nav-item\">-->\\n            <!--                <a class=\"nav-link\" href=\"/myday\"><strong>Myday</strong></a>-->\\n            <!--            </li>-->\\n            <li class=\"nav-item\">\\n                <a class=\"nav-link\" href=\"/my_class\"><strong>MyClass</strong></a>\\n            </li>\\n            <li class=\"nav-item\">\\n                <a class=\"nav-link\" href=\"/my_course\"><strong>MyCourse</strong></a>\\n            </li>\\n            <li class=\"nav-item\">\\n                <a class=\"nav-link\" href=\"/profile\"><strong>Profile</strong></a>\\n            </li>\\n            <li class=\"nav-item\">\\n                <a class=\"nav-link\" href=\"/logout\"><strong>Logout</strong></a>\\n            </li>\\n            <li class=\"nav-item float-right\">\\n                <div class=\"btn-group\">\\n                    <button type=\"button\" class=\"btn btn-default dropdown-toggle\" data-toggle=\"dropdown\"\\n                            aria-haspopup=\"true\" aria-expanded=\"false\">\\n                        May-2020\\n                    </button>\\n                    <div class=\"dropdown-menu\">\\n                        \\n                        <a class=\"dropdown-item\" href=\"/dashboard?month_year=May-2020\">May-2020</a>\\n                        \\n                        <a class=\"dropdown-item\" href=\"/dashboard?month_year=April-2020\">April-2020</a>\\n                        \\n                        <a class=\"dropdown-item\" href=\"/dashboard?month_year=March-2020\">March-2020</a>\\n                        \\n                        <a class=\"dropdown-item\" href=\"/dashboard?month_year=February-2020\">February-2020</a>\\n                        \\n                        <a class=\"dropdown-item\" href=\"/dashboard?month_year=January-2020\">January-2020</a>\\n                        \\n                        <a class=\"dropdown-item\" href=\"/dashboard?month_year=All\">All</a>\\n                        \\n                    </div>\\n                </div>\\n            </li>\\n        </ul>\\n    </div>\\n</nav>\\n<div class=\"container-fluid\">\\n    <div class=\"row\">\\n        <div class=\"col-md-3 col-sm-6 col-6 mt-3\">\\n            <div class=\"card text-white bg-pink mb-3 shadow-lg\">\\n                <div class=\"card-body\">\\n                    <h5 class=\"card-title\">Total Score</h5>\\n                    <p class=\"desktop\"><i class=\"fa fa-certificate fa-4x\"></i><span\\n                            class=\"right display-4\">51.75</span>\\n                    </p>\\n                    <p class=\"mobile display-4\">51.75\\n                    </p>\\n                </div>\\n            </div>\\n        </div>\\n\\n        <div class=\"col-md-3 col-sm-6 col-6 mt-3\">\\n            <div class=\"card text-white bg-royal-blue mb-3 shadow-lg\">\\n                <div class=\"card-body\">\\n                    <h5 class=\"card-title\">Class Rank</h5>\\n                    <p>\\n                        \\n                        \\n                        <i class=\"fa fa-certificate fa-4x desktop\"></i>\\n                        <span\\n                                class=\"right display-4 desktop\">5</span>\\n                        <span\\n                                class=\"right display-4 mobile\">5</span>\\n                        \\n                        \\n                    </p>\\n                </div>\\n            </div>\\n        </div>\\n\\n        <div class=\"col-md-3 col-sm-6 col-6 mt-3\">\\n            <div class=\"card text-white bg-orange mb-3 shadow-lg\">\\n                <div class=\"card-body\">\\n                    <h5 class=\"card-title\">Tasks Won</h5>\\n                    <p class=\"desktop\"><i class=\"fa fa-check-square fa-4x\"></i><span\\n                            class=\"right display-4\">1</span></p>\\n                    <p class=\"mobile display-4\">1</p>\\n                </div>\\n            </div>\\n        </div>\\n\\n        <div class=\"col-md-3 col-sm-6 col-6 mt-3\">\\n            <div class=\"card text-white bg-green mb-3 shadow-lg\">\\n                <div class=\"card-body\">\\n                    <h5 class=\"card-title\">Late Submissions</h5>\\n                    <p class=\"desktop\"><i class=\"fa fa-clock fa-4x\"></i><span\\n                            class=\"right display-4\">0</span>\\n                    </p>\\n                    <p class=\"mobile display-4\">0</p>\\n                </div>\\n            </div>\\n        </div>\\n    </div>\\n\\n    <div class=\"row\">\\n        <div class=\"col-md-4 col-sm-12 col-xs-12 mt-3\">\\n            <div class=\"card shadow-lg\" style=\"height: 450px;overflow-y: scroll;\">\\n                <div class=\"card-body\">\\n                    <h5 class=\"card-title\">Leaderboard</h5>\\n                    <table class=\"table\">\\n                        <thead>\\n                        <tr>\\n                            <th>S.No</th>\\n                            <th>Name</th>\\n                            <th>Score</th>\\n                        </tr>\\n                        </thead>\\n                        <tbody>\\n                        \\n                        <tr>\\n                            <td>1</td>\\n                            <td>Ritwik</td>\\n                            <td>65.0</td>\\n                        </tr>\\n                        \\n                        <tr>\\n                            <td>2</td>\\n                            <td>Rajtilak</td>\\n                            <td>57.25</td>\\n                        </tr>\\n                        \\n                        <tr>\\n                            <td>3</td>\\n                            <td>Wasif</td>\\n                            <td>57.0</td>\\n                        </tr>\\n                        \\n                        <tr>\\n                            <td>4</td>\\n                            <td>Ritayan</td>\\n                            <td>55.25</td>\\n                        </tr>\\n                        \\n                        <tr>\\n                            <td>5</td>\\n                            <td>Tuhin</td>\\n                            <td>51.75</td>\\n                        </tr>\\n                        \\n                        <tr>\\n                            <td>6</td>\\n                            <td>GAZAL</td>\\n                            <td>51.75</td>\\n                        </tr>\\n                        \\n                        <tr>\\n                            <td>7</td>\\n                            <td>Srijani</td>\\n                            <td>50.75</td>\\n                        </tr>\\n                        \\n                        <tr>\\n                            <td>8</td>\\n                            <td>Ritik</td>\\n                            <td>49.75</td>\\n                        </tr>\\n                        \\n                        <tr>\\n                            <td>9</td>\\n                            <td>Suman</td>\\n                            <td>48.0</td>\\n                        </tr>\\n                        \\n                        <tr>\\n                            <td>10</td>\\n                            <td>Balaka</td>\\n                            <td>47.75</td>\\n                        </tr>\\n                        \\n                        </tbody>\\n                    </table>\\n                </div>\\n            </div>\\n        </div>\\n        <div class=\"col-md-8 col-sm-12 col-xs-12 mt-3\">\\n            <div class=\"card shadow-lg\" style=\"height: 450px;overflow-y: scroll;\">\\n                <div class=\"card-body\">\\n                    <h5 class=\"card-title\">Student Performance</h5>\\n                    \\n                    <div class=\"card\" id=\"curve_chart\" style=\" height: 400px\"></div>\\n                    \\n                </div>\\n            </div>\\n        </div>\\n    </div>\\n\\n    <div class=\"row\">\\n        <div class=\"col-md-8 col-sm-12 col-xs-12 mt-3\">\\n            <div class=\"card shadow-lg\" style=\"height: 450px;overflow-y: scroll;\">\\n                <div class=\"card-body\">\\n                    <h5 class=\"card-title\">My Task Submissions</h5>\\n                    <table class=\"table\">\\n                        <thead>\\n                        <tr>\\n                            <th>SNo</th>\\n                            <th>Type</th>\\n                            <th>Name</th>\\n                            <th>Evaluated On</th>\\n                            <th>Late Sub</th>\\n                            <th>Score</th>\\n                            <th>Winner</th>\\n                        </tr>\\n                        </thead>\\n                        <tbody>\\n                        \\n                        <tr>\\n                            <td>1</td>\\n                            <td>Task</td>\\n                            <td><a href=\"/task_details?task_id=61\"><strong>Task on Regression Trees</strong></a><br>\\n                                <small><em></em></small></td>\\n                            <td>19th May</td>\\n                            <td>0</td>\\n                            <td>10.0</td>\\n                            <td>1</td>\\n                        </tr>\\n                        \\n                        <tr>\\n                            <td>2</td>\\n                            <td>Task</td>\\n                            <td><a href=\"/task_details?task_id=58\"><strong>Decision Tree Task #1</strong></a><br>\\n                                <small><em>Not good coding.\\r\\n</em></small></td>\\n                            <td>18th May</td>\\n                            <td>0</td>\\n                            <td>7.0</td>\\n                            <td>0</td>\\n                        </tr>\\n                        \\n                        <tr>\\n                            <td>3</td>\\n                            <td>Task</td>\\n                            <td><a href=\"/task_details?task_id=59\"><strong>Decision Boundary on Iris Dataset</strong></a><br>\\n                                <small><em></em></small></td>\\n                            <td>18th May</td>\\n                            <td>0</td>\\n                            <td>9.5</td>\\n                            <td>0</td>\\n                        </tr>\\n                        \\n                        <tr>\\n                            <td>4</td>\\n                            <td>Task</td>\\n                            <td><a href=\"/task_details?task_id=60\"><strong>Hyperparameter Tuning on Diabetes Dataset</strong></a><br>\\n                                <small><em>Check others parameter too for bets params.</em></small></td>\\n                            <td>18th May</td>\\n                            <td>0</td>\\n                            <td>9.0</td>\\n                            <td>0</td>\\n                        </tr>\\n                        \\n                        <tr>\\n                            <td>5</td>\\n                            <td>Task</td>\\n                            <td><a href=\"/task_details?task_id=57\"><strong>Naive Bayes Task 3 - Handling Numerical Data</strong></a><br>\\n                                <small><em></em></small></td>\\n                            <td>09th May</td>\\n                            <td>0</td>\\n                            <td>3.25</td>\\n                            <td>0</td>\\n                        </tr>\\n                        \\n                        </tbody>\\n                    </table>\\n                </div>\\n            </div>\\n        </div>\\n        <div class=\"col-md-4 col-sm-12 col-xs-12 mt-3\">\\n            <div class=\"card shadow-lg\" id=\"piechart\" style=\"width: 100%; height: 450px\">\\n            </div>\\n        </div>\\n\\n    </div>\\n    <div class=\"row\">\\n        <div class=\"col-md-4 col-sm-12 col-xs-12 mt-3\">\\n            <div class=\"card shadow-lg\" style=\"height: 450px;overflow-y: scroll;\">\\n                <div class=\"card-body\">\\n                    <h5 class=\"card-title\">Pending Tasks</h5>\\n                    \\n                    <div>\\n                        <hr>\\n                        <h5 style=\"text-align: center\">You have no Pending Task.</h5>\\n                    </div>\\n                    \\n                </div>\\n            </div>\\n        </div>\\n    </div>\\n    <!--    <div class=\"row\">-->\\n    <!--        <div class=\"col-md-12 col-sm-12 col-xs-12 mt-3\">-->\\n    <!--            <div class=\"card shadow-lg\">-->\\n    <!--                <div class=\"card-body\">-->\\n    <!--                    <div class=\"glanceyear-container\">-->\\n    <!--                        <h1 class=\"glanceyear-header\">Myday Heatmap-->\\n    <!--                            <span class=\"glanceyear-quantity\"></span>-->\\n    <!--                        </h1>-->\\n    <!--                        <div class=\"glanceyear-content\" id=\"js-glanceyear\" style=\"overflow-x: scroll;\">-->\\n    <!--                        </div>-->\\n\\n    <!--                        <div class=\"glanceyear-summary\">-->\\n    <!--                            <div class=\"glanceyear-legend\">-->\\n    <!--                                &lt;!&ndash;                                Less&nbsp;&ndash;&gt;-->\\n    <!--                                &lt;!&ndash;                                <span style=\"background-color: #eee\"></span>&ndash;&gt;-->\\n    <!--                                &lt;!&ndash;                                <span style=\"background-color: #c3dbda\"></span>&ndash;&gt;-->\\n    <!--                                &lt;!&ndash;                                <span style=\"background-color: #5caeaa\"></span>&ndash;&gt;-->\\n    <!--                                &lt;!&ndash;                                <span style=\"background-color: #277672\"></span>&ndash;&gt;-->\\n    <!--                                &lt;!&ndash;                                &nbsp;More&ndash;&gt;-->\\n    <!--                            </div>-->\\n    <!--                            MyDay Performance So Far <br>-->\\n    <!--                            <span id=\"debug\"></span>-->\\n    <!--                        </div>-->\\n    <!--                    </div>-->\\n    <!--                </div>-->\\n    <!--            </div>-->\\n    <!--        </div>-->\\n    <!--    </div>-->\\n</div>\\n<script type=\"text/javascript\" src=\"https://cdnjs.com/libraries/Chart.js\"></script>\\n</body>\\n</html>'\n"
     ]
    }
   ],
   "source": [
    "#Login_module\n",
    "\n",
    "br = mechanize.Browser()\n",
    "br.set_handle_robots(False)\n",
    "br.addheaders = [(\"User-agent\",\"Mozilla/5.0 (X11; U; Linux i686; en-US; rv:1.9.2.13) Gecko/20101206 Ubuntu/10.10 (maverick) Firefox/3.6.13\")]\n",
    "\n",
    "sign_in = br.open(\"http://classroom.campusx.in/\")  #the login url\n",
    "\n",
    "br.select_form(nr = 0) #accessing form by their index. Since we have only one form in this example, nr =0.\n",
    "#br.select_form(name = \"form name\") Alternatively you may use this instead of the above line if your form has name attribute available.\n",
    "\n",
    "br[\"email\"] = \"tuhinmukherjee744@gmail.com\" #the key \"username\" is the variable that takes the username/email value\n",
    "\n",
    "br[\"password\"] = \"yeyC32\"    #the key \"password\" is the variable that takes the password value\n",
    "\n",
    "logged_in = br.submit()   #submitting the login credentials\n",
    "\n",
    "src = logged_in.read()  #reading the page body that is redirected after successful login\n",
    "\n",
    "print (src) #printing the body of the redirected url after login\n",
    "\n",
    "#req = br.open(\"http://school.dwit.edu.np/mod/assign/\").read()\n",
    "#accessing other url(s) after login is done this way "
   ]
  },
  {
   "cell_type": "code",
   "execution_count": null,
   "metadata": {},
   "outputs": [],
   "source": []
  },
  {
   "cell_type": "code",
   "execution_count": 15,
   "metadata": {},
   "outputs": [],
   "source": [
    "#Gyaan upload \n",
    "\n",
    "br.open(\"http://classroom.campusx.in/gyan\")\n",
    "\n",
    "#try1\n",
    "br.select_form(nr = 0)\n",
    "br[\"gyanlink\"] = random_choice1\n",
    "logged_in = br.submit()   #submitting the form\n",
    "#try2\n",
    "br.select_form(nr = 0)\n",
    "br[\"gyanlink\"] = random_choice2\n",
    "logged_in = br.submit()   #submitting the form\n",
    "#try2\n",
    "br.select_form(nr = 0)\n",
    "br[\"gyanlink\"] = random_choice3\n",
    "logged_in = br.submit()   #submitting the form\n",
    "\n",
    "\n",
    "src = logged_in.read()  #reading the page body that is redirected after form submit login\n",
    "soup = bs4.BeautifulSoup(src, 'lxml')\n",
    "alert = soup.find('div', class_=\"alert alert-warning alert-dismissible\")\n",
    "msg=alert.text\n",
    "if msg=='\\n×\\n\\n    You have already shared today. Try again tomorrow\\n':\n",
    "    print (\"Gyan have bben submitted today\")\n",
    "else:\n",
    "    print (\"Gyan not submitted successfully\")"
   ]
  },
  {
   "cell_type": "code",
   "execution_count": null,
   "metadata": {},
   "outputs": [],
   "source": []
  },
  {
   "cell_type": "code",
   "execution_count": null,
   "metadata": {},
   "outputs": [],
   "source": []
  },
  {
   "cell_type": "code",
   "execution_count": null,
   "metadata": {},
   "outputs": [],
   "source": []
  }
 ],
 "metadata": {
  "kernelspec": {
   "display_name": "Python 3",
   "language": "python",
   "name": "python3"
  },
  "language_info": {
   "codemirror_mode": {
    "name": "ipython",
    "version": 3
   },
   "file_extension": ".py",
   "mimetype": "text/x-python",
   "name": "python",
   "nbconvert_exporter": "python",
   "pygments_lexer": "ipython3",
   "version": "3.7.4"
  }
 },
 "nbformat": 4,
 "nbformat_minor": 2
}
