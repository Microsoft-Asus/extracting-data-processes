{
 "cells": [
  {
   "cell_type": "code",
   "execution_count": 1,
   "metadata": {},
   "outputs": [],
   "source": [
    "from datetime import date\n",
    "import mechanize\n",
    "import bs4\n",
    "import requests\n",
    "import random\n",
    "import re"
   ]
  },
  {
   "cell_type": "code",
   "execution_count": 2,
   "metadata": {},
   "outputs": [
    {
     "name": "stdout",
     "output_type": "stream",
     "text": [
      "2020-05-23\n"
     ]
    }
   ],
   "source": [
    "today=date.today()\n",
    "print(today)"
   ]
  },
  {
   "cell_type": "code",
   "execution_count": null,
   "metadata": {},
   "outputs": [],
   "source": []
  },
  {
   "cell_type": "code",
   "execution_count": 3,
   "metadata": {},
   "outputs": [],
   "source": [
    "#Login_module\n",
    "\n",
    "br = mechanize.Browser()\n",
    "br.set_handle_robots(False)\n",
    "br.addheaders = [(\"User-agent\",\"Mozilla/5.0 (X11; U; Linux i686; en-US; rv:1.9.2.13) Gecko/20101206 Ubuntu/10.10 (maverick) Firefox/3.6.13\")]\n",
    "\n",
    "sign_in = br.open(\"http://classroom.campusx.in/\")  #the login url\n",
    "\n",
    "br.select_form(nr = 0) #accessing form by their index. Since we have only one form in this example, nr =0.\n",
    "#br.select_form(name = \"form name\") Alternatively you may use this instead of the above line if your form has name attribute available.\n",
    "\n",
    "br[\"email\"] = \"tuhinmukherjee744@gmail.com\" #the key \"username\" is the variable that takes the username/email value\n",
    "\n",
    "br[\"password\"] = \"yeyC32\"    #the key \"password\" is the variable that takes the password value\n",
    "\n",
    "logged_in = br.submit()   #submitting the login credentials\n",
    "\n",
    "src = logged_in.read()  #reading the page body that is redirected after successful login"
   ]
  },
  {
   "cell_type": "code",
   "execution_count": 4,
   "metadata": {},
   "outputs": [],
   "source": [
    "soup = bs4.BeautifulSoup(src, 'lxml')\n",
    "#print(soup.prettify())"
   ]
  },
  {
   "cell_type": "code",
   "execution_count": null,
   "metadata": {},
   "outputs": [],
   "source": []
  },
  {
   "cell_type": "code",
   "execution_count": 5,
   "metadata": {},
   "outputs": [
    {
     "data": {
      "text/plain": [
       "<response_seek_wrapper at 0x1b609cfcfc8 whose wrapped object = <closeable_response at 0x1b609d06808 whose fp = <_io.BufferedReader name=1776>>>"
      ]
     },
     "execution_count": 5,
     "metadata": {},
     "output_type": "execute_result"
    }
   ],
   "source": [
    "#hiting gyan links for Ritayan \n",
    "\n",
    "\n",
    "src=br.open(\"http://classroom.campusx.in/gyan\")\n",
    "soup = bs4.BeautifulSoup(src, 'lxml')\n",
    "\n",
    "url=[]\n",
    "\n",
    "for cell in soup.find_all(\"div\", class_=\"card-body\"): \n",
    "    name = \"\"\n",
    "    a_tag=''\n",
    "    \n",
    "    namecell = cell.find(\"h6\", class_=\"card-title\", text='Ritayan Dhara')\n",
    "    if namecell is not None:\n",
    "        name = namecell.get_text(strip=True)\n",
    "        a_tag = cell.find('a')\n",
    "        url.append(str(a_tag.attrs['href']))\n",
    "            \n",
    "    \n",
    "url_to_hit1=url[0]\n",
    "url_to_hit2=url[1]\n",
    "url_to_hit3=url[2]\n",
    "url_to_hit4=url[3]\n",
    "url_to_hit5=url[4]\n",
    "link_generated1=('http://classroom.campusx.in'+url_to_hit1)\n",
    "link_generated2=('http://classroom.campusx.in'+url_to_hit2)\n",
    "link_generated3=('http://classroom.campusx.in'+url_to_hit3)\n",
    "link_generated4=('http://classroom.campusx.in'+url_to_hit4)\n",
    "link_generated5=('http://classroom.campusx.in'+url_to_hit5)\n",
    "br.open(link_generated1)\n",
    "br.open(link_generated2)\n",
    "br.open(link_generated3)\n",
    "br.open(link_generated4)\n",
    "br.open(link_generated5)"
   ]
  },
  {
   "cell_type": "code",
   "execution_count": null,
   "metadata": {},
   "outputs": [],
   "source": []
  },
  {
   "cell_type": "code",
   "execution_count": 6,
   "metadata": {},
   "outputs": [
    {
     "data": {
      "text/plain": [
       "<response_seek_wrapper at 0x1b609d1f548 whose wrapped object = <closeable_response at 0x1b609e3d888 whose fp = <_io.BufferedReader name=2140>>>"
      ]
     },
     "execution_count": 6,
     "metadata": {},
     "output_type": "execute_result"
    }
   ],
   "source": [
    "#hiting gyan links for Wasif\n",
    "\n",
    "\n",
    "src=br.open(\"http://classroom.campusx.in/gyan\")\n",
    "soup = bs4.BeautifulSoup(src, 'lxml')\n",
    "\n",
    "url=[]\n",
    "\n",
    "for cell in soup.find_all(\"div\", class_=\"card-body\"): \n",
    "    name = \"\"\n",
    "    a_tag=''\n",
    "    \n",
    "    namecell = cell.find(\"h6\", class_=\"card-title\", text='Wasif Ekbal')\n",
    "    if namecell is not None:\n",
    "        name = namecell.get_text(strip=True)\n",
    "        a_tag = cell.find('a')\n",
    "        url.append(str(a_tag.attrs['href']))\n",
    "            \n",
    "    \n",
    "url_to_hit1=url[0]\n",
    "url_to_hit2=url[1]\n",
    "url_to_hit3=url[2]\n",
    "url_to_hit4=url[3]\n",
    "url_to_hit5=url[4]\n",
    "link_generated1=('http://classroom.campusx.in'+url_to_hit1)\n",
    "link_generated2=('http://classroom.campusx.in'+url_to_hit2)\n",
    "link_generated3=('http://classroom.campusx.in'+url_to_hit3)\n",
    "link_generated4=('http://classroom.campusx.in'+url_to_hit4)\n",
    "link_generated5=('http://classroom.campusx.in'+url_to_hit5)\n",
    "br.open(link_generated1)\n",
    "br.open(link_generated2)\n",
    "br.open(link_generated3)\n",
    "br.open(link_generated4)\n",
    "br.open(link_generated5)"
   ]
  },
  {
   "cell_type": "code",
   "execution_count": 7,
   "metadata": {},
   "outputs": [
    {
     "data": {
      "text/plain": [
       "['/check_gyan_click?gyan_id=3102&user_id=74&url=https://www.theverge.com/21266665/windows-10-restore-point-how-to-security-pc-software-registry-configuration',\n",
       " '/check_gyan_click?gyan_id=3100&user_id=74&url=https://www.theverge.com/2020/5/21/21266136/samsung-terrace-4k-qled-outdoor-tv-specs-price',\n",
       " '/check_gyan_click?gyan_id=3097&user_id=74&url=https://www.theverge.com/2020/5/20/21265299/facebook-reopen-offices-july-remote-work-face-mask-policy',\n",
       " '/check_gyan_click?gyan_id=3093&user_id=74&url=https://www.theverge.com/2020/5/19/21264122/google-fi-esim-support-ios-current-existing-customers',\n",
       " '/check_gyan_click?gyan_id=3090&user_id=74&url=https://www.theverge.com/2019/1/28/18194816/ai-artificial-intelligence-issue',\n",
       " '/check_gyan_click?gyan_id=3086&user_id=74&url=https://www.theverge.com/2020/5/17/21261473/james-dyson-electric-vehicle-tesla',\n",
       " '/check_gyan_click?gyan_id=3083&user_id=74&url=https://www.theverge.com/good-deals/2020/5/16/21260027/amazon-echo-show-5-smart-display-marshall-wireless-headphones-razer-pc-gaming-keyboard-deal-best-buy',\n",
       " '/check_gyan_click?gyan_id=3081&user_id=74&url=https://gadgets.ndtv.com/internet/news/amazon-data-on-coronavirus-linked-worker-deaths-infections-us-attorneys-2228044',\n",
       " '/check_gyan_click?gyan_id=3075&user_id=74&url=https://www.theverge.com/good-deals/2020/5/9/21248370/dji-osmo-mobile-3-apple-ipad-roku-speakers-mothers-day-gifts-deals-sale-tech',\n",
       " '/check_gyan_click?gyan_id=3072&user_id=74&url=https://www.theverge.com/good-deals/2020/5/9/21252512/razer-huntsman-tournament-edition-keyboard-viper-mouse-free-deal-gaming-bundle-best-buy',\n",
       " '/check_gyan_click?gyan_id=3065&user_id=74&url=https://www.theverge.com/2020/5/8/21252240/google-employees-essential-staff-remote-work-from-home-2021',\n",
       " '/check_gyan_click?gyan_id=3061&user_id=74&url=https://www.theverge.com/2020/5/7/21251075/zoom-new-york-attorney-general-letitia-james-letter-agreement-security-privacy-updates',\n",
       " '/check_gyan_click?gyan_id=3056&user_id=74&url=https://www.theverge.com/2020/5/6/21249668/sonos-s2-app-release-date-new-features-s1']"
      ]
     },
     "execution_count": 7,
     "metadata": {},
     "output_type": "execute_result"
    }
   ],
   "source": [
    "url"
   ]
  },
  {
   "cell_type": "code",
   "execution_count": null,
   "metadata": {},
   "outputs": [],
   "source": []
  }
 ],
 "metadata": {
  "kernelspec": {
   "display_name": "Python 3",
   "language": "python",
   "name": "python3"
  },
  "language_info": {
   "codemirror_mode": {
    "name": "ipython",
    "version": 3
   },
   "file_extension": ".py",
   "mimetype": "text/x-python",
   "name": "python",
   "nbconvert_exporter": "python",
   "pygments_lexer": "ipython3",
   "version": "3.7.4"
  }
 },
 "nbformat": 4,
 "nbformat_minor": 2
}
